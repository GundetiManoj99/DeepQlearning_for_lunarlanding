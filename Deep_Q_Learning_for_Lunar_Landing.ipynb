{
  "cells": [
    {
      "cell_type": "markdown",
      "metadata": {
        "id": "view-in-github",
        "colab_type": "text"
      },
      "source": [
        "<a href=\"https://colab.research.google.com/github/GundetiManoj99/DeepQlearning_for_lunarlanding/blob/main/Deep_Q_Learning_for_Lunar_Landing.ipynb\" target=\"_parent\"><img src=\"https://colab.research.google.com/assets/colab-badge.svg\" alt=\"Open In Colab\"/></a>"
      ]
    },
    {
      "cell_type": "markdown",
      "metadata": {
        "id": "LbZcI9ZXHl3a"
      },
      "source": [
        "# Deep Q-Learning for Lunar Landing"
      ]
    },
    {
      "cell_type": "markdown",
      "metadata": {
        "id": "E8yPRjteXgPb"
      },
      "source": [
        "## Part 0 - Installing the required packages and importing the libraries"
      ]
    },
    {
      "cell_type": "markdown",
      "metadata": {
        "id": "slEm5teGWjWU"
      },
      "source": [
        "### Installing Gymnasium"
      ]
    },
    {
      "cell_type": "code",
      "execution_count": 1,
      "metadata": {
        "id": "dbnq3XpoKa_7",
        "colab": {
          "base_uri": "https://localhost:8080/"
        },
        "outputId": "cd8bd09b-19b8-4a31-9ea4-7cbd9ca40d46"
      },
      "outputs": [
        {
          "output_type": "stream",
          "name": "stdout",
          "text": [
            "Requirement already satisfied: gymnasium in /usr/local/lib/python3.10/dist-packages (1.0.0)\n",
            "Requirement already satisfied: numpy>=1.21.0 in /usr/local/lib/python3.10/dist-packages (from gymnasium) (1.26.4)\n",
            "Requirement already satisfied: cloudpickle>=1.2.0 in /usr/local/lib/python3.10/dist-packages (from gymnasium) (3.1.0)\n",
            "Requirement already satisfied: typing-extensions>=4.3.0 in /usr/local/lib/python3.10/dist-packages (from gymnasium) (4.12.2)\n",
            "Requirement already satisfied: farama-notifications>=0.0.1 in /usr/local/lib/python3.10/dist-packages (from gymnasium) (0.0.4)\n",
            "Requirement already satisfied: gymnasium[accept-rom-license,atari] in /usr/local/lib/python3.10/dist-packages (1.0.0)\n",
            "\u001b[33mWARNING: gymnasium 1.0.0 does not provide the extra 'accept-rom-license'\u001b[0m\u001b[33m\n",
            "\u001b[0mRequirement already satisfied: numpy>=1.21.0 in /usr/local/lib/python3.10/dist-packages (from gymnasium[accept-rom-license,atari]) (1.26.4)\n",
            "Requirement already satisfied: cloudpickle>=1.2.0 in /usr/local/lib/python3.10/dist-packages (from gymnasium[accept-rom-license,atari]) (3.1.0)\n",
            "Requirement already satisfied: typing-extensions>=4.3.0 in /usr/local/lib/python3.10/dist-packages (from gymnasium[accept-rom-license,atari]) (4.12.2)\n",
            "Requirement already satisfied: farama-notifications>=0.0.1 in /usr/local/lib/python3.10/dist-packages (from gymnasium[accept-rom-license,atari]) (0.0.4)\n",
            "Requirement already satisfied: ale-py>=0.9 in /usr/local/lib/python3.10/dist-packages (from gymnasium[accept-rom-license,atari]) (0.10.1)\n",
            "Reading package lists... Done\n",
            "Building dependency tree... Done\n",
            "Reading state information... Done\n",
            "swig is already the newest version (4.0.2-1ubuntu1).\n",
            "0 upgraded, 0 newly installed, 0 to remove and 49 not upgraded.\n",
            "Requirement already satisfied: gymnasium[box2d] in /usr/local/lib/python3.10/dist-packages (1.0.0)\n",
            "Requirement already satisfied: numpy>=1.21.0 in /usr/local/lib/python3.10/dist-packages (from gymnasium[box2d]) (1.26.4)\n",
            "Requirement already satisfied: cloudpickle>=1.2.0 in /usr/local/lib/python3.10/dist-packages (from gymnasium[box2d]) (3.1.0)\n",
            "Requirement already satisfied: typing-extensions>=4.3.0 in /usr/local/lib/python3.10/dist-packages (from gymnasium[box2d]) (4.12.2)\n",
            "Requirement already satisfied: farama-notifications>=0.0.1 in /usr/local/lib/python3.10/dist-packages (from gymnasium[box2d]) (0.0.4)\n",
            "Requirement already satisfied: box2d-py==2.3.5 in /usr/local/lib/python3.10/dist-packages (from gymnasium[box2d]) (2.3.5)\n",
            "Requirement already satisfied: pygame>=2.1.3 in /usr/local/lib/python3.10/dist-packages (from gymnasium[box2d]) (2.6.1)\n",
            "Requirement already satisfied: swig==4.* in /usr/local/lib/python3.10/dist-packages (from gymnasium[box2d]) (4.2.1)\n"
          ]
        }
      ],
      "source": [
        "!pip install gymnasium\n",
        "!pip install \"gymnasium[atari, accept-rom-license]\"\n",
        "!apt-get install -y swig\n",
        "!pip install gymnasium[box2d]"
      ]
    },
    {
      "cell_type": "markdown",
      "metadata": {
        "id": "brqiMN3UW9T9"
      },
      "source": [
        "### Importing the libraries"
      ]
    },
    {
      "cell_type": "code",
      "execution_count": 2,
      "metadata": {
        "id": "mZaKXP_aMl9O"
      },
      "outputs": [],
      "source": [
        "import os\n",
        "import random\n",
        "import numpy as np\n",
        "import torch\n",
        "import torch.nn as nn\n",
        "import torch.optim as optim\n",
        "import torch.nn.functional as F\n",
        "import torch.autograd as autograd\n",
        "from torch.autograd import Variable\n",
        "from collections import deque, namedtuple"
      ]
    },
    {
      "cell_type": "markdown",
      "metadata": {
        "id": "EzlDKXvkXzGI"
      },
      "source": [
        "## Part 1 - Building the AI"
      ]
    },
    {
      "cell_type": "markdown",
      "metadata": {
        "id": "UtG6Zc83YYy3"
      },
      "source": [
        "### Creating the architecture of the Neural Network"
      ]
    },
    {
      "cell_type": "code",
      "source": [
        "class Network(nn.Module):\n",
        "    def __init__(self,state_size,action_size,seed=42):\n",
        "        super(Network,self).__init__()\n",
        "        self.seed = torch.manual_seed(seed)\n",
        "        self.fc1 = nn.Linear(state_size,64)\n",
        "        self.fc2 = nn.Linear(64,64)\n",
        "        self.fc3 = nn.Linear(64,action_size)\n",
        "\n",
        "    def forward(self,state):\n",
        "        x = self.fc1(state)\n",
        "        x = F.relu(x)\n",
        "        x = self.fc2(x)\n",
        "        x = F.relu(x)\n",
        "        return self.fc3(x)"
      ],
      "metadata": {
        "id": "-IRBKnmLR1LR"
      },
      "execution_count": 3,
      "outputs": []
    },
    {
      "cell_type": "markdown",
      "metadata": {
        "id": "UxVrBnFWZKb1"
      },
      "source": [
        "## Part 2 - Training the AI"
      ]
    },
    {
      "cell_type": "markdown",
      "metadata": {
        "id": "T364fz9qZb2j"
      },
      "source": [
        "### Setting up the environment"
      ]
    },
    {
      "cell_type": "code",
      "source": [
        "import gymnasium as gym\n",
        "env = gym.make('LunarLander-v3') # The Lunar Lander environment was upgraded to v3\n",
        "state_shape = env.observation_space.shape\n",
        "state_size = env.observation_space.shape[0]\n",
        "number_actions = env.action_space.n\n",
        "print('State shape: ', state_shape)\n",
        "print('State size: ', state_size)\n",
        "print('Number of actions: ', number_actions)"
      ],
      "metadata": {
        "id": "41sgnpCwtd5f",
        "colab": {
          "base_uri": "https://localhost:8080/"
        },
        "outputId": "ac81751b-7ff2-4c42-8527-9b72c1f1c739"
      },
      "execution_count": 4,
      "outputs": [
        {
          "output_type": "stream",
          "name": "stdout",
          "text": [
            "State shape:  (8,)\n",
            "State size:  8\n",
            "Number of actions:  4\n"
          ]
        }
      ]
    },
    {
      "cell_type": "markdown",
      "metadata": {
        "id": "c_dZmOIvZgj-"
      },
      "source": [
        "### Initializing the hyperparameters"
      ]
    },
    {
      "cell_type": "code",
      "source": [
        "learning_rate = 5e-4\n",
        "discount_factor = 0.99\n",
        "minibatch_size = 100\n",
        "replay_buffer_size = int(1e5)\n",
        "interpolation_parameter= 1e-3"
      ],
      "metadata": {
        "id": "q1OcoUcM-wNP"
      },
      "execution_count": 5,
      "outputs": []
    },
    {
      "cell_type": "markdown",
      "metadata": {
        "id": "8hD_Vs-bYnip"
      },
      "source": [
        "### Implementing Experience Replay"
      ]
    },
    {
      "cell_type": "code",
      "source": [
        "class ReplayMemory(object):\n",
        "\n",
        "  def __init__(self, capacity):\n",
        "    self.device = torch.device(\"cuda:0\" if torch.cuda.is_available() else \"cpu\")\n",
        "    self.capacity = capacity\n",
        "    self.memory = []\n",
        "\n",
        "  def push(self, event):\n",
        "    self.memory.append(event)\n",
        "    if len(self.memory) > self.capacity:\n",
        "      del self.memory[0]\n",
        "\n",
        "  def sample(self, batch_size):\n",
        "    experiences = random.sample(self.memory, k = batch_size)\n",
        "    states = torch.from_numpy(np.vstack([e[0] for e in experiences if e is not None])).float().to(self.device)\n",
        "    actions = torch.from_numpy(np.vstack([e[1] for e in experiences if e is not None])).long().to(self.device)\n",
        "    rewards = torch.from_numpy(np.vstack([e[2] for e in experiences if e is not None])).float().to(self.device)\n",
        "    next_states = torch.from_numpy(np.vstack([e[3] for e in experiences if e is not None])).float().to(self.device)\n",
        "    dones = torch.from_numpy(np.vstack([e[4] for e in experiences if e is not None]).astype(np.uint8)).float().to(self.device)\n",
        "    return states, next_states, actions, rewards, dones"
      ],
      "metadata": {
        "id": "-VifDRkhA8mW"
      },
      "execution_count": 14,
      "outputs": []
    },
    {
      "cell_type": "markdown",
      "metadata": {
        "id": "JmEkbFbUY6Jt"
      },
      "source": [
        "### Implementing the DQN class"
      ]
    },
    {
      "cell_type": "code",
      "source": [
        "class Agent():\n",
        "\n",
        "  def __init__(self, state_size, action_size):\n",
        "    self.device = torch.device(\"cuda:0\" if torch.cuda.is_available() else \"cpu\")\n",
        "    self.state_size = state_size\n",
        "    self.action_size = action_size\n",
        "    self.local_qnetwork = Network(state_size, action_size).to(self.device)\n",
        "    self.target_qnetwork = Network(state_size, action_size).to(self.device)\n",
        "    self.optimizer = optim.Adam(self.local_qnetwork.parameters(), lr = learning_rate)\n",
        "    self.memory = ReplayMemory(replay_buffer_size)\n",
        "    self.t_step = 0\n",
        "\n",
        "  def step(self, state, action, reward, next_state, done):\n",
        "    self.memory.push((state, action, reward, next_state, done))\n",
        "    self.t_step = (self.t_step + 1) % 4\n",
        "    if self.t_step == 0:\n",
        "      if len(self.memory.memory) > minibatch_size:\n",
        "        experiences = self.memory.sample(100)\n",
        "        self.learn(experiences, discount_factor)\n",
        "\n",
        "  def act(self, state, epsilon = 0.):\n",
        "    state = torch.from_numpy(state).float().unsqueeze(0).to(self.device)\n",
        "    self.local_qnetwork.eval()\n",
        "    with torch.no_grad():\n",
        "      action_values = self.local_qnetwork(state)\n",
        "    self.local_qnetwork.train()\n",
        "    if random.random() > epsilon:\n",
        "      return np.argmax(action_values.cpu().data.numpy())\n",
        "    else:\n",
        "      return random.choice(np.arange(self.action_size))\n",
        "\n",
        "  def learn(self, experiences, discount_factor):\n",
        "    states, next_states, actions, rewards, dones = experiences\n",
        "    next_q_targets = self.target_qnetwork(next_states).detach().max(1)[0].unsqueeze(1)\n",
        "    q_targets = rewards + discount_factor * next_q_targets * (1 - dones)\n",
        "    q_expected = self.local_qnetwork(states).gather(1, actions)\n",
        "    loss = F.mse_loss(q_expected, q_targets)\n",
        "    self.optimizer.zero_grad()\n",
        "    loss.backward()\n",
        "    self.optimizer.step()\n",
        "    self.soft_update(self.local_qnetwork, self.target_qnetwork, interpolation_parameter)\n",
        "\n",
        "  def soft_update(self, local_model, target_model, interpolation_parameter):\n",
        "    for target_param, local_param in zip(target_model.parameters(), local_model.parameters()):\n",
        "      target_param.data.copy_(interpolation_parameter * local_param.data + (1.0 - interpolation_parameter) * target_param.data)"
      ],
      "metadata": {
        "id": "gqtxZOFjEJtL"
      },
      "execution_count": 15,
      "outputs": []
    },
    {
      "cell_type": "markdown",
      "metadata": {
        "id": "o1tZElccZmf6"
      },
      "source": [
        "### Initializing the DQN agent"
      ]
    },
    {
      "cell_type": "code",
      "source": [
        "agent = Agent(state_size, number_actions)"
      ],
      "metadata": {
        "id": "IEHLX57dhVcr"
      },
      "execution_count": 16,
      "outputs": []
    },
    {
      "cell_type": "markdown",
      "metadata": {
        "id": "E8v0PtUfaVQp"
      },
      "source": [
        "### Training the DQN agent"
      ]
    },
    {
      "cell_type": "code",
      "source": [
        "number_episodes = 2000\n",
        "maximum_number_timesteps_per_episode = 1000\n",
        "epsilon_starting_value  = 1.0\n",
        "epsilon_ending_value  = 0.01\n",
        "epsilon_decay_value  = 0.995\n",
        "epsilon = epsilon_starting_value\n",
        "scores_on_100_episodes = deque(maxlen = 100)\n",
        "\n",
        "for episode in range(1, number_episodes + 1):\n",
        "  state, _ = env.reset()\n",
        "  score = 0\n",
        "  for t in range(maximum_number_timesteps_per_episode):\n",
        "    action = agent.act(state, epsilon)\n",
        "    next_state, reward, done, _, _ = env.step(action)\n",
        "    agent.step(state, action, reward, next_state, done)\n",
        "    state = next_state\n",
        "    score += reward\n",
        "    if done:\n",
        "      break\n",
        "  scores_on_100_episodes.append(score)\n",
        "  epsilon = max(epsilon_ending_value, epsilon_decay_value * epsilon)\n",
        "  print('\\rEpisode {}\\tAverage Score: {:.2f}'.format(episode, np.mean(scores_on_100_episodes)), end = \"\")\n",
        "  if episode % 100 == 0:\n",
        "    print('\\rEpisode {}\\tAverage Score: {:.2f}'.format(episode, np.mean(scores_on_100_episodes)))\n",
        "  if np.mean(scores_on_100_episodes) >= 200.0:\n",
        "    print('\\nEnvironment solved in {:d} episodes!\\tAverage Score: {:.2f}'.format(episode - 100, np.mean(scores_on_100_episodes)))\n",
        "    torch.save(agent.local_qnetwork.state_dict(), 'checkpoint.pth')\n",
        "    break"
      ],
      "metadata": {
        "colab": {
          "base_uri": "https://localhost:8080/"
        },
        "id": "zp4Kmt-xhl-3",
        "outputId": "470fc187-3c4e-45dd-e466-07a795d1dfb5"
      },
      "execution_count": 17,
      "outputs": [
        {
          "output_type": "stream",
          "name": "stdout",
          "text": [
            "Episode 100\tAverage Score: -172.98\n",
            "Episode 200\tAverage Score: -107.10\n",
            "Episode 300\tAverage Score: -47.59\n",
            "Episode 400\tAverage Score: 55.68\n",
            "Episode 500\tAverage Score: 107.78\n",
            "Episode 600\tAverage Score: 181.28\n",
            "Episode 700\tAverage Score: 176.21\n",
            "Episode 800\tAverage Score: 157.24\n",
            "Episode 900\tAverage Score: 179.83\n",
            "Episode 1000\tAverage Score: 153.18\n",
            "Episode 1094\tAverage Score: 200.54\n",
            "Environment solved in 994 episodes!\tAverage Score: 200.54\n"
          ]
        }
      ]
    },
    {
      "cell_type": "markdown",
      "metadata": {
        "id": "O8CNwdOTcCoP"
      },
      "source": [
        "## Part 3 - Visualizing the results"
      ]
    },
    {
      "cell_type": "code",
      "execution_count": 18,
      "metadata": {
        "id": "cb9nVvU2Okhk",
        "colab": {
          "base_uri": "https://localhost:8080/",
          "height": 459
        },
        "outputId": "38fef220-5e17-4f0c-f286-ead42de5785a"
      },
      "outputs": [
        {
          "output_type": "stream",
          "name": "stderr",
          "text": [
            "WARNING:imageio_ffmpeg:IMAGEIO FFMPEG_WRITER WARNING: input image is not divisible by macro_block_size=16, resizing from (600, 400) to (608, 400) to ensure video compatibility with most codecs and players. To prevent resizing, make your input image divisible by the macro_block_size or set the macro_block_size to 1 (risking incompatibility).\n"
          ]
        },
        {
          "output_type": "display_data",
          "data": {
            "text/plain": [
              "<IPython.core.display.HTML object>"
            ],
            "text/html": [
              "<video alt=\"test\" autoplay\n",
              "                loop controls style=\"height: 400px;\">\n",
              "                <source src=\"data:video/mp4;base64,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\" type=\"video/mp4\" />\n",
              "             </video>"
            ]
          },
          "metadata": {}
        }
      ],
      "source": [
        "import glob\n",
        "import io\n",
        "import base64\n",
        "import imageio\n",
        "from IPython.display import HTML, display\n",
        "\n",
        "def show_video_of_model(agent, env_name):\n",
        "    env = gym.make(env_name, render_mode='rgb_array')\n",
        "    state, _ = env.reset()\n",
        "    done = False\n",
        "    frames = []\n",
        "    while not done:\n",
        "        frame = env.render()\n",
        "        frames.append(frame)\n",
        "        action = agent.act(state)\n",
        "        state, reward, done, _, _ = env.step(action.item())\n",
        "    env.close()\n",
        "    imageio.mimsave('video.mp4', frames, fps=30)\n",
        "\n",
        "show_video_of_model(agent, 'LunarLander-v3')\n",
        "\n",
        "def show_video():\n",
        "    mp4list = glob.glob('*.mp4')\n",
        "    if len(mp4list) > 0:\n",
        "        mp4 = mp4list[0]\n",
        "        video = io.open(mp4, 'r+b').read()\n",
        "        encoded = base64.b64encode(video)\n",
        "        display(HTML(data='''<video alt=\"test\" autoplay\n",
        "                loop controls style=\"height: 400px;\">\n",
        "                <source src=\"data:video/mp4;base64,{0}\" type=\"video/mp4\" />\n",
        "             </video>'''.format(encoded.decode('ascii'))))\n",
        "    else:\n",
        "        print(\"Could not find video\")\n",
        "\n",
        "show_video()"
      ]
    }
  ],
  "metadata": {
    "colab": {
      "provenance": [],
      "include_colab_link": true
    },
    "kernelspec": {
      "display_name": "Python 3",
      "name": "python3"
    },
    "language_info": {
      "name": "python"
    }
  },
  "nbformat": 4,
  "nbformat_minor": 0
}